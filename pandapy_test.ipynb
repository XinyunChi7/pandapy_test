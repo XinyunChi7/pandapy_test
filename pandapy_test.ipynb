{
 "cells": [
  {
   "cell_type": "code",
   "execution_count": 115,
   "metadata": {},
   "outputs": [],
   "source": [
    "# Panda hostname/IP and Desk login information of your robot\n",
    "hostname = '192.168.1.11'\n",
    "username = 'panda'\n",
    "password = 'panda1234'\n",
    "\n",
    "# panda-py is chatty, activate information log level\n",
    "import logging\n",
    "logging.basicConfig(level=logging.INFO)"
   ]
  },
  {
   "cell_type": "code",
   "execution_count": 116,
   "metadata": {},
   "outputs": [
    {
     "name": "stderr",
     "output_type": "stream",
     "text": [
      "INFO:desk:Login succesful.\n",
      "INFO:desk:Retaken control.\n"
     ]
    }
   ],
   "source": [
    "import panda_py\n",
    "\n",
    "desk = panda_py.Desk(hostname, username, password, platform=\"fr3\")\n",
    "\n",
    "desk.unlock()\n",
    "desk.activate_fci()"
   ]
  },
  {
   "cell_type": "code",
   "execution_count": 117,
   "metadata": {},
   "outputs": [
    {
     "name": "stderr",
     "output_type": "stream",
     "text": [
      "INFO:panda:Connected to robot (192.168.1.11).\n",
      "INFO:panda:Panda class destructor invoked (192.168.1.11).\n",
      "INFO:panda:Stopping active controller (JointTrajectory).\n"
     ]
    }
   ],
   "source": [
    "from panda_py import libfranka\n",
    "\n",
    "panda = panda_py.Panda(hostname)\n",
    "gripper = libfranka.Gripper(hostname)"
   ]
  },
  {
   "cell_type": "code",
   "execution_count": 118,
   "metadata": {},
   "outputs": [
    {
     "name": "stderr",
     "output_type": "stream",
     "text": [
      "INFO:panda:Initializing motion generation (moveToJointPosition).\n",
      "INFO:motion:Computed joint trajectory: 1 waypoint, duration 0.08 seconds.\n",
      "INFO:panda:Starting new controller (JointTrajectory).\n"
     ]
    }
   ],
   "source": [
    "# moq 2.93022 is beyond the joint wall: [-2.8973, 2.8973]tion generation in joint space\n",
    "\n",
    "panda.move_to_start()\n",
    "\n",
    "# call to get_pose produces a 4*4 matrix \n",
    "# representing the homogeneous transform from robot base to end-effector\n",
    "\n",
    "pose = panda.get_pose()\n",
    "\n",
    "# pose[2,3] -= .1 # The indices refer to third row and fourth column respectively, i.e. the z-coordinate.\n",
    "\n",
    "# # The position in z is lowered by 0.1m\n",
    "# # and passed to the inverse kinematics function to produce joint positions. \n",
    "# q = panda_py.ik(pose)\n",
    "# # Finally the call to move_to_joint_position generates a motion from the current to the desired joint potions.\n",
    "# panda.move_to_joint_position(q)\n",
    "\n",
    "# print(\"Solved IK\", q)"
   ]
  },
  {
   "cell_type": "code",
   "execution_count": 119,
   "metadata": {},
   "outputs": [
    {
     "name": "stderr",
     "output_type": "stream",
     "text": [
      "INFO:panda:Stopping active controller (JointTrajectory).\n",
      "INFO:panda:Initializing motion generation (moveToJointPosition).\n",
      "INFO:motion:Computed joint trajectory: 1 waypoint, duration 0.07 seconds.\n",
      "INFO:panda:Starting new controller (JointTrajectory).\n",
      "INFO:panda:Stopping active controller (JointTrajectory).\n",
      "INFO:panda:Initializing motion generation (moveToJointPosition).\n",
      "INFO:motion:Computed joint trajectory: 1 waypoint, duration 0.07 seconds.\n",
      "INFO:panda:Starting new controller (JointTrajectory).\n"
     ]
    },
    {
     "name": "stdout",
     "output_type": "stream",
     "text": [
      "Solved start pose IK [-0.00408259 -0.78351519  0.00302372 -2.35496117  0.00286078  1.57165106\n",
      "  0.78539816]\n"
     ]
    }
   ],
   "source": [
    "panda.move_to_start()\n",
    "pose = panda.get_pose()\n",
    "\n",
    "q = panda_py.ik(pose)\n",
    "# Finally the call to move_to_joint_position generates a motion from the current to the desired joint potions.\n",
    "panda.move_to_joint_position(q)\n",
    "\n",
    "print(\"Solved start pose IK\", q)"
   ]
  },
  {
   "cell_type": "code",
   "execution_count": null,
   "metadata": {},
   "outputs": [
    {
     "name": "stderr",
     "output_type": "stream",
     "text": [
      "INFO:panda:Stopping active controller (JointTrajectory).\n",
      "INFO:panda:Initializing motion generation (moveToJointPosition).\n",
      "INFO:motion:Computed joint trajectory: 1 waypoint, duration 0.06 seconds.\n",
      "INFO:panda:Starting new controller (JointTrajectory).\n",
      "INFO:panda:Stopping active controller (JointTrajectory).\n",
      "INFO:panda:Initializing motion generation (moveToJointPosition).\n",
      "INFO:motion:Computed joint trajectory: 1 waypoint, duration 0.07 seconds.\n",
      "INFO:panda:Starting new controller (JointTrajectory).\n"
     ]
    },
    {
     "name": "stdout",
     "output_type": "stream",
     "text": [
      "Position: [3.07476465e-01 2.42093371e-04 4.87061548e-01], Orientation: [ 9.99999418e-01 -1.00134137e-03  2.41658652e-04 -3.20716618e-04]\n",
      "Solved start pose IK: [-0.00399094 -0.78378403  0.00280875 -2.35491378  0.00262479  1.5716144\n",
      "  0.78539816]\n"
     ]
    }
   ],
   "source": [
    "import numpy as np\n",
    "\n",
    "panda.move_to_start()\n",
    "\n",
    "# Get the position and orientation as separate arrays\n",
    "pos = np.array(panda.get_position())\n",
    "ori = np.array(panda.get_orientation())\n",
    "\n",
    "# Ensure that the orientation is a 4x1 array (quaternion or similar)\n",
    "# The position is a 3x1 array (x, y, z)\n",
    "print(f\"Position: {pos}, Orientation: {ori}\")\n",
    "\n",
    "\n",
    "# Now call the IK solver with separate position and orientation arrays\n",
    "q = panda_py.ik(pos, ori)\n",
    "print(\"Solved start pose IK (Initial):\", q)\n",
    "\n",
    "\n",
    "# Move the robot to the joint configuration returned by IK solver\n",
    "pos += [0.1 , 0 , 0.1]\n",
    "ori += [0, 0, 0, 0.1]\n",
    "\n",
    "q = panda_py.ik(pos, ori)\n",
    "panda.move_to_joint_position(q)\n",
    "\n",
    "print(\"Solved start pose IK (after move):\", q)\n"
   ]
  },
  {
   "cell_type": "code",
   "execution_count": 102,
   "metadata": {},
   "outputs": [
    {
     "name": "stderr",
     "output_type": "stream",
     "text": [
      "INFO:panda:Stopping active controller (CartesianTrajectory).\n",
      "INFO:panda:Initializing motion generation (moveToJointPosition).\n",
      "INFO:motion:Computed joint trajectory: 1 waypoint, duration 0.60 seconds.\n",
      "INFO:panda:Starting new controller (JointTrajectory).\n",
      "INFO:panda:Stopping active controller (JointTrajectory).\n",
      "INFO:panda:Initializing motion generation (moveToPose).\n",
      "INFO:motion:Computed Cartesian trajectory: 1 waypoint, duration 0.42 seconds.\n",
      "INFO:panda:Starting new controller (CartesianTrajectory).\n"
     ]
    },
    {
     "name": "stdout",
     "output_type": "stream",
     "text": [
      "initial_pose: [0.30806945 0.00108481 0.48721348], [ 9.99992206e-01 -3.55724640e-03  1.46592524e-03 -8.86204473e-04]\n"
     ]
    },
    {
     "name": "stderr",
     "output_type": "stream",
     "text": [
      "INFO:panda:Stopping active controller (CartesianTrajectory).\n",
      "INFO:panda:Initializing motion generation (moveToPose).\n",
      "INFO:motion:Computed Cartesian trajectory: 1 waypoint, duration 0.18 seconds.\n",
      "INFO:panda:Starting new controller (CartesianTrajectory).\n"
     ]
    },
    {
     "name": "stdout",
     "output_type": "stream",
     "text": [
      "aftermove: [0.31254503 0.00113544 0.39332044], [ 9.98876367e-01 -3.69724314e-03 -4.72419864e-02 -7.26735440e-04]\n",
      "aftermove_pose: [0.31341838 0.00115412 0.3941126 ], [ 9.98967161e-01 -3.67658090e-03 -4.52831679e-02 -7.26982129e-04]\n"
     ]
    }
   ],
   "source": [
    "# motion generation in Cartesian space\n",
    "\n",
    "panda.move_to_start()\n",
    "\n",
    "pos = panda.get_position()\n",
    "ori = panda.get_orientation()\n",
    "\n",
    "# pos = panda.get_position() \n",
    "print(f\"initial_pose: {pos}, {ori}\")\n",
    "pos += [0.0 , 0 , -0.1]\n",
    "\n",
    "\n",
    "# # resulting pose is passed directly to move_to_pose to produce a motion in Cartesian space.\n",
    "panda.move_to_pose(positions=[pos], orientations=[ori])\n",
    "# ori = panda.get_orientation()\n",
    "\n",
    "pos = panda.get_position()\n",
    "ori = panda.get_orientation()\n",
    "\n",
    "# pos = panda.get_position() \n",
    "print(f\"aftermove: {pos}, {ori}\")\n",
    "# pos = panda.get_position() \n",
    "# print(f\"aftermove_pose: {pos}, {ori}\")\n",
    "\n",
    "ori += [3.14/4.0, 0, 0, 0]\n",
    "\n",
    "# resulting pose is passed directly to move_to_pose to produce a motion in Cartesian space.\n",
    "panda.move_to_pose(positions=[pos], orientations=[ori])\n",
    "ori = panda.get_orientation()\n",
    "pos = panda.get_position() \n",
    "print(f\"aftermove_pose: {pos}, {ori}\")\n",
    "\n"
   ]
  },
  {
   "cell_type": "code",
   "execution_count": 103,
   "metadata": {},
   "outputs": [
    {
     "name": "stderr",
     "output_type": "stream",
     "text": [
      "INFO:panda:Stopping active controller (CartesianTrajectory).\n",
      "INFO:panda:Initializing motion generation (moveToJointPosition).\n",
      "INFO:motion:Computed joint trajectory: 1 waypoint, duration 0.60 seconds.\n",
      "INFO:panda:Starting new controller (JointTrajectory).\n"
     ]
    },
    {
     "data": {
      "text/plain": [
       "True"
      ]
     },
     "execution_count": 103,
     "metadata": {},
     "output_type": "execute_result"
    }
   ],
   "source": [
    "panda.move_to_start()"
   ]
  },
  {
   "cell_type": "code",
   "execution_count": 108,
   "metadata": {},
   "outputs": [
    {
     "name": "stdout",
     "output_type": "stream",
     "text": [
      "initial_pose: [0.30802878 0.001055   0.48718262], [ 9.99992877e-01 -3.40536710e-03  1.37714228e-03 -8.67456704e-04]\n"
     ]
    },
    {
     "ename": "TypeError",
     "evalue": "ik(): incompatible function arguments. The following argument types are supported:\n    1. (O_T_EE: numpy.ndarray[numpy.float64[4, 4]], q_init: numpy.ndarray[numpy.float64[7, 1]] = array([ 0. , -0.78539816, 0. , -2.35619449, 0. , 1.57079633, 0.78539816]), q_7: float = 0.7853981633974483) -> numpy.ndarray[numpy.float64[7, 1]]\n    2. (position: numpy.ndarray[numpy.float64[3, 1]], orientation: numpy.ndarray[numpy.float64[4, 1]], q_init: numpy.ndarray[numpy.float64[7, 1]] = array([ 0. , -0.78539816, 0. , -2.35619449, 0. , 1.57079633, 0.78539816]), q_7: float = 0.7853981633974483) -> numpy.ndarray[numpy.float64[7, 1]]\n\nInvoked with: kwargs: positions=[array([0.30802878, 0.001055  , 0.38718262])], orientations=[array([ 9.99992877e-01, -3.40536710e-03,  1.37714228e-03, -8.67456704e-04])]",
     "output_type": "error",
     "traceback": [
      "\u001b[0;31m---------------------------------------------------------------------------\u001b[0m",
      "\u001b[0;31mTypeError\u001b[0m                                 Traceback (most recent call last)",
      "Cell \u001b[0;32mIn[108], line 9\u001b[0m\n\u001b[1;32m      5\u001b[0m \u001b[38;5;28mprint\u001b[39m(\u001b[38;5;124mf\u001b[39m\u001b[38;5;124m\"\u001b[39m\u001b[38;5;124minitial_pose: \u001b[39m\u001b[38;5;132;01m{\u001b[39;00mpos\u001b[38;5;132;01m}\u001b[39;00m\u001b[38;5;124m, \u001b[39m\u001b[38;5;132;01m{\u001b[39;00mori\u001b[38;5;132;01m}\u001b[39;00m\u001b[38;5;124m\"\u001b[39m)\n\u001b[1;32m      7\u001b[0m pos \u001b[38;5;241m+\u001b[39m\u001b[38;5;241m=\u001b[39m [\u001b[38;5;241m0.0\u001b[39m , \u001b[38;5;241m0\u001b[39m , \u001b[38;5;241m-\u001b[39m\u001b[38;5;241m0.1\u001b[39m]\n\u001b[0;32m----> 9\u001b[0m q \u001b[38;5;241m=\u001b[39m \u001b[43mpanda_py\u001b[49m\u001b[38;5;241;43m.\u001b[39;49m\u001b[43mik\u001b[49m\u001b[43m(\u001b[49m\u001b[43mpositions\u001b[49m\u001b[38;5;241;43m=\u001b[39;49m\u001b[43m[\u001b[49m\u001b[43mpos\u001b[49m\u001b[43m]\u001b[49m\u001b[43m,\u001b[49m\u001b[43m \u001b[49m\u001b[43morientations\u001b[49m\u001b[38;5;241;43m=\u001b[39;49m\u001b[43m[\u001b[49m\u001b[43mori\u001b[49m\u001b[43m]\u001b[49m\u001b[43m)\u001b[49m\n\u001b[1;32m     11\u001b[0m \u001b[38;5;66;03m# # resulting pose is passed directly to move_to_pose to produce a motion in Cartesian space.\u001b[39;00m\n\u001b[1;32m     12\u001b[0m panda\u001b[38;5;241m.\u001b[39mmove_to_joint_position(q)\n",
      "\u001b[0;31mTypeError\u001b[0m: ik(): incompatible function arguments. The following argument types are supported:\n    1. (O_T_EE: numpy.ndarray[numpy.float64[4, 4]], q_init: numpy.ndarray[numpy.float64[7, 1]] = array([ 0. , -0.78539816, 0. , -2.35619449, 0. , 1.57079633, 0.78539816]), q_7: float = 0.7853981633974483) -> numpy.ndarray[numpy.float64[7, 1]]\n    2. (position: numpy.ndarray[numpy.float64[3, 1]], orientation: numpy.ndarray[numpy.float64[4, 1]], q_init: numpy.ndarray[numpy.float64[7, 1]] = array([ 0. , -0.78539816, 0. , -2.35619449, 0. , 1.57079633, 0.78539816]), q_7: float = 0.7853981633974483) -> numpy.ndarray[numpy.float64[7, 1]]\n\nInvoked with: kwargs: positions=[array([0.30802878, 0.001055  , 0.38718262])], orientations=[array([ 9.99992877e-01, -3.40536710e-03,  1.37714228e-03, -8.67456704e-04])]"
     ]
    }
   ],
   "source": [
    "pos = panda.get_position()\n",
    "ori = panda.get_orientation()\n",
    "\n",
    "# pos = panda.get_position() \n",
    "print(f\"initial_pose: {pos}, {ori}\")\n",
    "\n",
    "pos += [0.0 , 0 , -0.1]\n",
    "\n",
    "q = panda_py.ik(positions=[pos], orientations=[ori])\n",
    "\n",
    "# # resulting pose is passed directly to move_to_pose to produce a motion in Cartesian space.\n",
    "panda.move_to_joint_position(q)\n",
    "\n"
   ]
  },
  {
   "cell_type": "code",
   "execution_count": null,
   "metadata": {},
   "outputs": [
    {
     "data": {
      "text/plain": [
       "True"
      ]
     },
     "execution_count": 47,
     "metadata": {},
     "output_type": "execute_result"
    }
   ],
   "source": [
    "gripper.grasp(0, 0.1, 10, 0.4, 0.04)\n",
    "#1st arg: 0 close gripper, >0 -> open \n",
    "\n"
   ]
  },
  {
   "cell_type": "code",
   "execution_count": 50,
   "metadata": {},
   "outputs": [
    {
     "data": {
      "text/plain": [
       "True"
      ]
     },
     "execution_count": 50,
     "metadata": {},
     "output_type": "execute_result"
    }
   ],
   "source": [
    "gripper.move(0, 0.2)\n",
    "\n",
    "# position and speed"
   ]
  },
  {
   "cell_type": "code",
   "execution_count": null,
   "metadata": {},
   "outputs": [
    {
     "name": "stdout",
     "output_type": "stream",
     "text": [
      "Position:  [ 0.30738739 -0.00056706  0.38513597]\n",
      "Orientation:  [ 0.99995338 -0.00834506 -0.00362407  0.00323329]\n",
      "Pose:  [[ 9.99834435e-01 -1.66659070e-02 -7.30176382e-03  3.07387388e-01]\n",
      " [-1.67127777e-02 -9.99839794e-01 -6.40580183e-03 -5.67061413e-04]\n",
      " [-7.19383554e-03  6.52677401e-03 -9.99952824e-01  3.85135973e-01]\n",
      " [ 0.00000000e+00  0.00000000e+00  0.00000000e+00  1.00000000e+00]]\n"
     ]
    }
   ],
   "source": [
    "print(\"Position: \", panda.get_position())\n",
    "print(\"Orientation: \", panda.get_orientation())\n",
    "\n",
    "# print(\"Pose: \", panda.get_pose())\n",
    "\n"
   ]
  },
  {
   "cell_type": "code",
   "execution_count": 52,
   "metadata": {},
   "outputs": [
    {
     "name": "stderr",
     "output_type": "stream",
     "text": [
      "INFO:panda:Stopping active controller (JointTrajectory).\n",
      "INFO:panda:Initializing motion generation (moveToJointPosition).\n",
      "INFO:motion:Computed joint trajectory: 1 waypoint, duration 0.15 seconds.\n",
      "INFO:panda:Starting new controller (JointTrajectory).\n"
     ]
    },
    {
     "name": "stdout",
     "output_type": "stream",
     "text": [
      "pose:  [[ 9.99884498e-01 -1.39686854e-02 -5.98593695e-03  3.07315772e-01]\n",
      " [-1.39928319e-02 -9.99894033e-01 -4.01115552e-03 -3.91354215e-04]\n",
      " [-5.92927206e-03  4.09445243e-03 -9.99974039e-01  3.85538719e-01]\n",
      " [ 0.00000000e+00  0.00000000e+00  0.00000000e+00  1.00000000e+00]]\n",
      "Solved IK [-0.02594125 -0.80998017  0.02159639 -2.62837596  0.01191016  1.81255409\n",
      "  0.78539816]\n"
     ]
    },
    {
     "data": {
      "text/plain": [
       "True"
      ]
     },
     "execution_count": 52,
     "metadata": {},
     "output_type": "execute_result"
    }
   ],
   "source": [
    "pose = panda.get_pose()\n",
    "print(\"pose: \", pose)\n",
    "q = panda_py.ik(pose)\n",
    "\n",
    "print(\"Solved IK\", q)\n",
    "\n",
    "panda.move_to_joint_position(q) \n"
   ]
  },
  {
   "cell_type": "code",
   "execution_count": 31,
   "metadata": {},
   "outputs": [
    {
     "name": "stdout",
     "output_type": "stream",
     "text": [
      "{\"O_T_EE\": [0.998186,-0.00329882,-0.0601197,0,-0.00337953,-0.999994,-0.00124089,0,-0.0601153,0.00144182,-0.99819,0,0.312286,3.5474e-05,0.440711,1], \"O_T_EE_d\": [0.999995,-0.0029257,-0.000691016,0,-0.00292654,-0.999995,-0.00122429,0,-0.000687431,0.0012263,-0.999999,0,0.307662,0.000108499,0.486512,1], \"F_T_NE\": [0.707107,-0.707107,0,0,0.707107,0.707107,0,0,0,0,1,0,0,0,0.1034,1], \"NE_T_EE\": [1,0,0,0,0,1,0,0,0,0,1,0,0,0,0,1], \"F_T_EE\": [0.707107,-0.707107,0,0,0.707107,0.707107,0,0,0,0,1,0,0,0,0.1034,1], \"EE_T_K\": [1,0,0,0,0,1,0,0,0,0,1,0,0,0,0,1], \"m_ee\": 0.73, \"F_x_Cee\": [-0.01,0,0.03], \"I_ee\": [0.001,0,0,0,0.0025,0,0,0,0.0017], \"m_load\": 0, \"F_x_Cload\": [0,0,0], \"I_load\": [0,0,0,0,0,0,0,0,0], \"m_total\": 0.73, \"F_x_Ctotal\": [-0.01,0,0.03], \"I_total\": [0.001,0,0,0,0.0025,0,0,0,0.0017], \"elbow\": [0.000344635,-1], \"elbow_d\": [0.000348337,-1], \"elbow_c\": [0,0], \"delbow_c\": [0,0], \"ddelbow_c\": [0,0], \"tau_J\": [0.279393,-6.22863,-0.747078,22.8987,0.757526,2.06341,-0.0321755], \"tau_J_d\": [-0.0293456,-0.581307,-0.0234685,-0.650381,0.0117992,-0.225705,0.0168943], \"dtau_J\": [9.05613,-96.3027,-59.0815,1.40906,-3.3544,-24.4403,40.2935], \"q\": [-0.00127901,-0.746999,0.000344635,-2.44023,0.001617,1.63308,0.787558], \"dq\": [0.000582679,0.000826048,0.000555443,0.000279373,0.000509691,-0.000199907,-0.00088088], \"q_d\": [-0.00102251,-0.782999,0.000348337,-2.356,0.00147149,1.57231,0.787546], \"dq_d\": [0,0,0,0,0,0,0], \"ddq_d\": [0,0,0,0,0,0,0], \"joint_contact\": [0,0,0,0,0,0,0], \"cartesian_contact\": [0,0,0,0,0,0], \"joint_collision\": [0,0,0,0,0,0,0], \"cartesian_collision\": [0,0,0,0,0,0], \"tau_ext_hat_filtered\": [0.349062,-0.760987,-0.044829,-0.0758138,-0.0339696,0.00376146,-0.0636635], \"O_F_ext_hat_K\": [-2.66821,0.0430637,-0.441599,0.0411219,-1.64958,0.168442], \"K_F_ext_hat_K\": [-2.63696,-0.0334982,0.601262,0.0527121,0.611176,-0.159114], \"O_dP_EE_d\": [0,0,0,0,0,0], \"O_ddP_O\": [0,0,-9.81], \"O_T_EE_c\": [0,0,0,0,0,0,0,0,0,0,0,0,0,0,0,0], \"O_dP_EE_c\": [0,0,0,0,0,0], \"O_ddP_EE_c\": [0,0,0,0,0,0], \"theta\": [-0.00125914,-0.747448,0.000287621,-2.43852,0.00170655,1.63332,0.787555], \"dtheta\": [0,0,0,0,0,0,0], \"current_errors\": [], \"last_motion_errors\": [], \"control_command_success_rate\": 1, \"robot_mode\": \"Move\", \"time\": 1269071}\n",
      "<panda_py.libfranka.Model object at 0x7a643c777bf0>\n"
     ]
    }
   ],
   "source": [
    "print(panda.get_state())\n",
    "print(panda.get_model())\n"
   ]
  }
 ],
 "metadata": {
  "kernelspec": {
   "display_name": "usr",
   "language": "python",
   "name": "python3"
  },
  "language_info": {
   "codemirror_mode": {
    "name": "ipython",
    "version": 3
   },
   "file_extension": ".py",
   "mimetype": "text/x-python",
   "name": "python",
   "nbconvert_exporter": "python",
   "pygments_lexer": "ipython3",
   "version": "3.10.12"
  }
 },
 "nbformat": 4,
 "nbformat_minor": 2
}
