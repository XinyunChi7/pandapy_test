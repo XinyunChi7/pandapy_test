{
 "cells": [
  {
   "cell_type": "code",
   "execution_count": 2,
   "metadata": {},
   "outputs": [],
   "source": [
    "# Panda hostname/IP and Desk login information of your robot\n",
    "hostname = '192.168.1.11'\n",
    "username = 'panda'\n",
    "password = 'panda1234'\n",
    "\n",
    "# panda-py is chatty, activate information log level\n",
    "import logging\n",
    "logging.basicConfig(level=logging.INFO)"
   ]
  },
  {
   "cell_type": "code",
   "execution_count": 3,
   "metadata": {},
   "outputs": [
    {
     "name": "stderr",
     "output_type": "stream",
     "text": [
      "INFO:desk:Login succesful.\n",
      "INFO:desk:Retaken control.\n"
     ]
    }
   ],
   "source": [
    "import panda_py\n",
    "\n",
    "desk = panda_py.Desk(hostname, username, password, platform=\"fr3\")\n",
    "\n",
    "desk.unlock()\n",
    "desk.activate_fci()"
   ]
  },
  {
   "cell_type": "code",
   "execution_count": 4,
   "metadata": {},
   "outputs": [
    {
     "name": "stderr",
     "output_type": "stream",
     "text": [
      "INFO:panda:Connected to robot (192.168.1.11).\n"
     ]
    }
   ],
   "source": [
    "from panda_py import libfranka\n",
    "\n",
    "panda = panda_py.Panda(hostname)\n",
    "gripper = libfranka.Gripper(hostname)"
   ]
  },
  {
   "cell_type": "code",
   "execution_count": 6,
   "metadata": {},
   "outputs": [
    {
     "name": "stderr",
     "output_type": "stream",
     "text": [
      "INFO:panda:Stopping active controller (JointTrajectory).\n",
      "INFO:panda:Initializing motion generation (moveToJointPosition).\n",
      "INFO:motion:Computed joint trajectory: 1 waypoint, duration 0.80 seconds.\n",
      "INFO:panda:Starting new controller (JointTrajectory).\n",
      "INFO:panda:Stopping active controller (JointTrajectory).\n",
      "INFO:panda:Initializing motion generation (moveToJointPosition).\n",
      "INFO:motion:Computed joint trajectory: 1 waypoint, duration 0.80 seconds.\n",
      "INFO:panda:Starting new controller (JointTrajectory).\n"
     ]
    },
    {
     "name": "stdout",
     "output_type": "stream",
     "text": [
      "Solved IK [-0.00441419 -0.81570771  0.00358419 -2.62871149  0.00364269  1.8167815\n",
      "  0.78539816]\n"
     ]
    }
   ],
   "source": [
    "# motion generation in joint space\n",
    "\n",
    "panda.move_to_start()\n",
    "\n",
    "# call to get_pose produces a 4*4 matrix \n",
    "# representing the homogeneous transform from robot base to end-effector\n",
    "\n",
    "pose = panda.get_pose()\n",
    "pose[2,3] -= .1 # The indices refer to third row and fourth column respectively, i.e. the z-coordinate.\n",
    "\n",
    "# The position in z is lowered by 0.1m\n",
    "# and passed to the inverse kinematics function to produce joint positions. \n",
    "q = panda_py.ik(pose)\n",
    "# Finally the call to move_to_joint_position generates a motion from the current to the desired joint potions.\n",
    "panda.move_to_joint_position(q)\n",
    "\n",
    "print(\"Solved IK\", q)"
   ]
  },
  {
   "cell_type": "code",
   "execution_count": 17,
   "metadata": {},
   "outputs": [
    {
     "name": "stderr",
     "output_type": "stream",
     "text": [
      "INFO:panda:Stopping active controller (JointTrajectory).\n",
      "INFO:panda:Initializing motion generation (moveToJointPosition).\n",
      "INFO:motion:Computed joint trajectory: 1 waypoint, duration 0.08 seconds.\n",
      "INFO:panda:Starting new controller (JointTrajectory).\n",
      "INFO:panda:Stopping active controller (JointTrajectory).\n",
      "INFO:panda:Initializing motion generation (moveToJointPosition).\n",
      "INFO:motion:Computed joint trajectory: 1 waypoint, duration 0.09 seconds.\n",
      "INFO:panda:Starting new controller (JointTrajectory).\n"
     ]
    },
    {
     "name": "stdout",
     "output_type": "stream",
     "text": [
      "Solved start pose IK [-0.006646   -0.78363907  0.00431912 -2.35560734  0.00369991  1.57203572\n",
      "  0.78539816]\n"
     ]
    }
   ],
   "source": [
    "panda.move_to_start()\n",
    "pose = panda.get_pose()\n",
    "\n",
    "q = panda_py.ik(pose)\n",
    "# Finally the call to move_to_joint_position generates a motion from the current to the desired joint potions.\n",
    "panda.move_to_joint_position(q)\n",
    "\n",
    "print(\"Solved start pose IK\", q)"
   ]
  },
  {
   "cell_type": "code",
   "execution_count": 27,
   "metadata": {},
   "outputs": [
    {
     "name": "stderr",
     "output_type": "stream",
     "text": [
      "INFO:panda:Stopping active controller (JointTrajectory).\n",
      "INFO:panda:Initializing motion generation (moveToJointPosition).\n",
      "INFO:motion:Computed joint trajectory: 1 waypoint, duration 0.15 seconds.\n",
      "INFO:panda:Starting new controller (JointTrajectory).\n",
      "INFO:panda:Stopping active controller (JointTrajectory).\n",
      "INFO:panda:Initializing motion generation (moveToPose).\n",
      "INFO:motion:Computed Cartesian trajectory: 1 waypoint, duration 0.28 seconds.\n",
      "INFO:panda:Starting new controller (CartesianTrajectory).\n"
     ]
    },
    {
     "name": "stdout",
     "output_type": "stream",
     "text": [
      "initial_pose: [[ 9.99995447e-01 -2.92722420e-03 -7.08714384e-04  3.07661125e-01]\n",
      " [-2.92635585e-03 -9.99994953e-01  1.22319034e-03  1.10682830e-04]\n",
      " [-7.12291360e-04 -1.22111082e-03 -9.99999001e-01  4.86504152e-01]\n",
      " [ 0.00000000e+00  0.00000000e+00  0.00000000e+00  1.00000000e+00]]\n",
      "new_pose: [[ 9.99995447e-01 -2.92722420e-03 -7.08714384e-04  3.07661125e-01]\n",
      " [-2.92635585e-03 -9.99994953e-01  1.22319034e-03  1.10682830e-04]\n",
      " [-7.12291360e-04 -1.22111082e-03 -9.99999001e-01  4.36504152e-01]\n",
      " [ 0.00000000e+00  0.00000000e+00  0.00000000e+00  1.00000000e+00]]\n"
     ]
    },
    {
     "data": {
      "text/plain": [
       "False"
      ]
     },
     "execution_count": 27,
     "metadata": {},
     "output_type": "execute_result"
    }
   ],
   "source": [
    "# motion generation in Cartesian space\n",
    "\n",
    "panda.move_to_start()\n",
    "pose = panda.get_pose()\n",
    "print(\"initial_pose:\",pose)\n",
    "\n",
    "pose[2,3] -= .05\n",
    "print(\"new_pose:\", pose)\n",
    "\n",
    "# resulting pose is passed directly to move_to_pose to produce a motion in Cartesian space.\n",
    "panda.move_to_pose(pose)"
   ]
  },
  {
   "cell_type": "code",
   "execution_count": 8,
   "metadata": {},
   "outputs": [
    {
     "name": "stderr",
     "output_type": "stream",
     "text": [
      "INFO:panda:Stopping active controller (CartesianTrajectory).\n",
      "INFO:panda:Initializing motion generation (moveToJointPosition).\n",
      "INFO:motion:Computed joint trajectory: 1 waypoint, duration 0.37 seconds.\n",
      "INFO:panda:Starting new controller (JointTrajectory).\n"
     ]
    },
    {
     "data": {
      "text/plain": [
       "True"
      ]
     },
     "execution_count": 8,
     "metadata": {},
     "output_type": "execute_result"
    }
   ],
   "source": [
    "panda.move_to_start()"
   ]
  },
  {
   "cell_type": "code",
   "execution_count": 7,
   "metadata": {},
   "outputs": [
    {
     "data": {
      "text/plain": [
       "True"
      ]
     },
     "execution_count": 7,
     "metadata": {},
     "output_type": "execute_result"
    }
   ],
   "source": [
    "gripper.grasp(0, 0.2, 10, 0.04, 0.04)\n",
    "gripper.move(0.08, 0.2)"
   ]
  },
  {
   "cell_type": "code",
   "execution_count": 8,
   "metadata": {},
   "outputs": [
    {
     "name": "stdout",
     "output_type": "stream",
     "text": [
      "Position:  [3.07168795e-01 4.57102340e-05 3.85846607e-01]\n",
      "Orientation:  [ 9.99995476e-01 -2.14307530e-03 -2.09804340e-03 -2.29779575e-04]\n"
     ]
    }
   ],
   "source": [
    "print(\"Position: \", panda.get_position())\n",
    "print(\"Orientation: \", panda.get_orientation())\n",
    "\n",
    "# print(\"Pose: \", panda.get_pose())\n",
    "\n"
   ]
  },
  {
   "cell_type": "code",
   "execution_count": 9,
   "metadata": {},
   "outputs": [
    {
     "name": "stderr",
     "output_type": "stream",
     "text": [
      "INFO:panda:Stopping active controller (JointTrajectory).\n",
      "INFO:panda:Initializing motion generation (moveToJointPosition).\n",
      "INFO:motion:Computed joint trajectory: 1 waypoint, duration 0.08 seconds.\n",
      "INFO:panda:Starting new controller (JointTrajectory).\n"
     ]
    },
    {
     "name": "stdout",
     "output_type": "stream",
     "text": [
      "pose:  [[ 9.99981994e-01 -4.28709531e-03 -4.19508296e-03  3.07168795e-01]\n",
      " [-4.28516696e-03 -9.99990692e-01  4.68549600e-04  4.57102340e-05]\n",
      " [-4.19705262e-03 -4.50564532e-04 -9.99991091e-01  3.85846607e-01]\n",
      " [ 0.00000000e+00  0.00000000e+00  0.00000000e+00  1.00000000e+00]]\n",
      "Solved IK [-0.00688876 -0.81173919  0.00536948 -2.62909639  0.00448158  1.81316545\n",
      "  0.78539816]\n"
     ]
    },
    {
     "data": {
      "text/plain": [
       "True"
      ]
     },
     "execution_count": 9,
     "metadata": {},
     "output_type": "execute_result"
    }
   ],
   "source": [
    "pose = panda.get_pose()\n",
    "print(\"pose: \", pose)\n",
    "q = panda_py.ik(pose)\n",
    "\n",
    "print(\"Solved IK\", q)\n",
    "\n",
    "panda.move_to_joint_position(q) \n"
   ]
  },
  {
   "cell_type": "code",
   "execution_count": 31,
   "metadata": {},
   "outputs": [
    {
     "name": "stdout",
     "output_type": "stream",
     "text": [
      "{\"O_T_EE\": [0.998186,-0.00329882,-0.0601197,0,-0.00337953,-0.999994,-0.00124089,0,-0.0601153,0.00144182,-0.99819,0,0.312286,3.5474e-05,0.440711,1], \"O_T_EE_d\": [0.999995,-0.0029257,-0.000691016,0,-0.00292654,-0.999995,-0.00122429,0,-0.000687431,0.0012263,-0.999999,0,0.307662,0.000108499,0.486512,1], \"F_T_NE\": [0.707107,-0.707107,0,0,0.707107,0.707107,0,0,0,0,1,0,0,0,0.1034,1], \"NE_T_EE\": [1,0,0,0,0,1,0,0,0,0,1,0,0,0,0,1], \"F_T_EE\": [0.707107,-0.707107,0,0,0.707107,0.707107,0,0,0,0,1,0,0,0,0.1034,1], \"EE_T_K\": [1,0,0,0,0,1,0,0,0,0,1,0,0,0,0,1], \"m_ee\": 0.73, \"F_x_Cee\": [-0.01,0,0.03], \"I_ee\": [0.001,0,0,0,0.0025,0,0,0,0.0017], \"m_load\": 0, \"F_x_Cload\": [0,0,0], \"I_load\": [0,0,0,0,0,0,0,0,0], \"m_total\": 0.73, \"F_x_Ctotal\": [-0.01,0,0.03], \"I_total\": [0.001,0,0,0,0.0025,0,0,0,0.0017], \"elbow\": [0.000344635,-1], \"elbow_d\": [0.000348337,-1], \"elbow_c\": [0,0], \"delbow_c\": [0,0], \"ddelbow_c\": [0,0], \"tau_J\": [0.279393,-6.22863,-0.747078,22.8987,0.757526,2.06341,-0.0321755], \"tau_J_d\": [-0.0293456,-0.581307,-0.0234685,-0.650381,0.0117992,-0.225705,0.0168943], \"dtau_J\": [9.05613,-96.3027,-59.0815,1.40906,-3.3544,-24.4403,40.2935], \"q\": [-0.00127901,-0.746999,0.000344635,-2.44023,0.001617,1.63308,0.787558], \"dq\": [0.000582679,0.000826048,0.000555443,0.000279373,0.000509691,-0.000199907,-0.00088088], \"q_d\": [-0.00102251,-0.782999,0.000348337,-2.356,0.00147149,1.57231,0.787546], \"dq_d\": [0,0,0,0,0,0,0], \"ddq_d\": [0,0,0,0,0,0,0], \"joint_contact\": [0,0,0,0,0,0,0], \"cartesian_contact\": [0,0,0,0,0,0], \"joint_collision\": [0,0,0,0,0,0,0], \"cartesian_collision\": [0,0,0,0,0,0], \"tau_ext_hat_filtered\": [0.349062,-0.760987,-0.044829,-0.0758138,-0.0339696,0.00376146,-0.0636635], \"O_F_ext_hat_K\": [-2.66821,0.0430637,-0.441599,0.0411219,-1.64958,0.168442], \"K_F_ext_hat_K\": [-2.63696,-0.0334982,0.601262,0.0527121,0.611176,-0.159114], \"O_dP_EE_d\": [0,0,0,0,0,0], \"O_ddP_O\": [0,0,-9.81], \"O_T_EE_c\": [0,0,0,0,0,0,0,0,0,0,0,0,0,0,0,0], \"O_dP_EE_c\": [0,0,0,0,0,0], \"O_ddP_EE_c\": [0,0,0,0,0,0], \"theta\": [-0.00125914,-0.747448,0.000287621,-2.43852,0.00170655,1.63332,0.787555], \"dtheta\": [0,0,0,0,0,0,0], \"current_errors\": [], \"last_motion_errors\": [], \"control_command_success_rate\": 1, \"robot_mode\": \"Move\", \"time\": 1269071}\n",
      "<panda_py.libfranka.Model object at 0x7a643c777bf0>\n"
     ]
    }
   ],
   "source": [
    "print(panda.get_state())\n",
    "print(panda.get_model())\n"
   ]
  }
 ],
 "metadata": {
  "kernelspec": {
   "display_name": "usr",
   "language": "python",
   "name": "python3"
  },
  "language_info": {
   "codemirror_mode": {
    "name": "ipython",
    "version": 3
   },
   "file_extension": ".py",
   "mimetype": "text/x-python",
   "name": "python",
   "nbconvert_exporter": "python",
   "pygments_lexer": "ipython3",
   "version": "3.10.12"
  }
 },
 "nbformat": 4,
 "nbformat_minor": 2
}
